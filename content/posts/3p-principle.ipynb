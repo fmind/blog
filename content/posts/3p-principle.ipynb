{
 "cells": [
  {
   "cell_type": "markdown",
   "metadata": {},
   "source": [
    "- title: 3P Principle: Purpose, Productivity, Performance\n",
    "- summary: Definition and description of the 3P Principle\n",
    "- tags: principle, programming, language\n",
    "- image: images/3p-principle.png\n",
    "- slug: 3p-principle\n",
    "- date: 2019-07-28"
   ]
  },
  {
   "cell_type": "markdown",
   "metadata": {},
   "source": [
    "![Diagram of the 3P principle]({static}/images/3p-principle.png) \n",
    "\n",
    "Programmers want programming languages which are efficient, effective and general purpose. But does such programming languages exist?\n",
    "\n",
    "In this article, I define the 3P Principle as a fundamental trade-off between the core properties that programmers seek in programming languages."
   ]
  },
  {
   "cell_type": "markdown",
   "metadata": {},
   "source": [
    "## Definitions\n",
    "\n",
    "**The 3P Principle states that a programming language cannot satisfies the following properties at the same time:**\n",
    "\n",
    "- **(General) Purpose**: a programming language can be applied to accomplish a wide range of tasks (e.g., web development, computer security, data analysis ...).\n",
    "\n",
    "- **Productivity**: a programming language that empowers programmers to get the job done (e.g., with dynamic typing, meta-programming, interactive development ...)\n",
    "\n",
    "- **Performance**: a programming language which is fast to compile and/or execute on a computer (e.g., with static\n",
    "   -  e.g. static typing, compilation, manual memory management, unboxed types …"
   ]
  },
  {
   "cell_type": "markdown",
   "metadata": {},
   "source": [
    "## Trade-offs\n",
    "\n",
    "Let’s focus on the Performance Vs. Productivity trade-off:\n",
    "\n",
    "> For a language to be **Performant**, it must provide a set of features close to the logic of a computer.\n",
    "\n",
    "> For a language to be **Productive**, it must provide a set of features close to the logic of a programmer.\n",
    "\n",
    "> Since the logic of a computer is different from the logic of a programmer, the task of optimizing the Performance and Productivity of a programming language at the same time is not possible.\n",
    "\n",
    "Historically, some languages like C or Assembly have always been closer to the hardware than other languages like LISPs or Python. On the other hand, LISPs and Python provide many convenient features to their programmers such as dynamic typing and meta-programming.\n",
    "\n",
    "As simple as it is, this trade-off is not all or nothing. Modern languages like Rust, Haskell or Clojure attempt to balance these two properties.\n",
    "\n",
    "**The question is: can we succeed in creating a language that satisfies these 3 properties ?**\n",
    "\n",
    "> To optimize both the Performance and the Productivity of a programming language, the Purpose of a language must the limited to a specific set of tasks.\n",
    "\n",
    "> By limiting the domain of a programming language, its range of application becomes more essential both for the programmer to use and for the computer to execute.\n",
    "\n",
    "If we need to consider every possible use cases, I think the problem will remain too hard for humans to solve. We can’t think about every situation in which a programming language can be used.\n",
    "\n",
    "What can we do instead is to limit our focus, and try to find a good solution on a smaller problem.\n",
    "\n",
    "Again, the most important requirement we can trade is the general applicability of a programming language. SQL for instance has one and only goal: managing database information with relational algebra. Other Domain Specific Languages (DSL) are created to deal with narrow tasks such as web template, matrix manipulation or logic programming.\n",
    "\n",
    "**By reducing the scope of a language, the core developers have the opportunity to improve both the performance and the productivity of their language.**"
   ]
  },
  {
   "cell_type": "markdown",
   "metadata": {},
   "source": [
    "## Importance\n",
    "\n",
    "If ignored, the 3P principle can harm the success chance of a software project.\n",
    "\n",
    "When I was working as a web developer, my mission was to deliver application features as fast as I can. But as the user base grown, my tasks shifted toward improving the performance of the application.\n",
    "\n",
    "[Facebook](https://code.fb.com/web/hiphop-for-php-move-fast) and [Twitter](https://www.infoq.com/articles/twitter-java-use) have attempted to improve the scalability of their website several time, without sacrificing their ability to develop new features. Unfortunately, most programming languages don’t help their programmers in that regard.\n",
    "\n",
    "**The optimal solution is often to rewrite the application with a different (and often incompatible) language.**\n",
    "\n",
    "Recently, I’ve been working on a data analysis project to process large datasets. Compared to web programming, a data analysis must be both fast to develop and fast to execute to gather experimental results as soon as possible. Again, few programming languages can address this use case.\n",
    "\n",
    "Either the programming language is too slow to execute (e.g. Python, R) or too slow to develop (Java, C++). Other languages like Julia try to balance this trade-off, but they are not as general purpose as the languages I listed.\n",
    "\n",
    "I don’t have a definitive answer to solve this problem, but there is few things that I can suggest:\n",
    "\n",
    "-  **Create and explore specific purpose programming languages** (e.g. query languages, data pipelines ...).\n",
    "-  **Embrace the idea of** [Polyglot Programming](https://deanwampler.github.io/polyglotprogramming) to combine the strength of multiple languages (e.g. TensorFlow relies on C++ for its backend (performance) and Python for its frontend (productivity)).\n",
    "-  **Remember that** [premature optimization is the root of all evil](http://wiki.c2.com/?PrematureOptimization). It is often more important to explore the edge cases of a problem before committing to optimize specific use case.\n",
    "-  **Remember that the requirements of a project will change over time**. The ability to adapt to new requirements remains important through the course of a project."
   ]
  }
 ],
 "metadata": {
  "kernelspec": {
   "display_name": "Python 3",
   "language": "python",
   "name": "python3"
  },
  "language_info": {
   "codemirror_mode": {
    "name": "ipython",
    "version": 3
   },
   "file_extension": ".py",
   "mimetype": "text/x-python",
   "name": "python",
   "nbconvert_exporter": "python",
   "pygments_lexer": "ipython3",
   "version": "3.7.3"
  }
 },
 "nbformat": 4,
 "nbformat_minor": 4
}
